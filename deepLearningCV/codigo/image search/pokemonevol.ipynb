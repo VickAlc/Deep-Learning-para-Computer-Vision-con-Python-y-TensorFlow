{
 "cells": [
  {
   "cell_type": "code",
   "execution_count": null,
   "id": "bff58f42",
   "metadata": {
    "papermill": {
     "duration": 0.024331,
     "end_time": "2022-07-16T12:23:37.728536",
     "exception": false,
     "start_time": "2022-07-16T12:23:37.704205",
     "status": "completed"
    },
    "tags": []
   },
   "outputs": [],
   "source": []
  },
  {
   "cell_type": "markdown",
   "id": "41230720",
   "metadata": {
    "papermill": {
     "duration": 0.022404,
     "end_time": "2022-07-16T12:23:37.774850",
     "exception": false,
     "start_time": "2022-07-16T12:23:37.752446",
     "status": "completed"
    },
    "tags": []
   },
   "source": [
    "# **1. Dataset de características**"
   ]
  },
  {
   "cell_type": "code",
   "execution_count": 1,
   "id": "0b66c521",
   "metadata": {
    "execution": {
     "iopub.execute_input": "2022-07-16T12:23:37.827430Z",
     "iopub.status.busy": "2022-07-16T12:23:37.826218Z",
     "iopub.status.idle": "2022-07-16T12:23:43.333731Z",
     "shell.execute_reply": "2022-07-16T12:23:43.332800Z"
    },
    "papermill": {
     "duration": 5.539324,
     "end_time": "2022-07-16T12:23:43.336794",
     "exception": false,
     "start_time": "2022-07-16T12:23:37.797470",
     "status": "completed"
    },
    "tags": []
   },
   "outputs": [],
   "source": [
    "import tensorflow as tf"
   ]
  },
  {
   "cell_type": "code",
   "execution_count": 2,
   "id": "93e2b950",
   "metadata": {
    "execution": {
     "iopub.execute_input": "2022-07-16T12:23:43.386582Z",
     "iopub.status.busy": "2022-07-16T12:23:43.385980Z",
     "iopub.status.idle": "2022-07-16T12:23:54.899388Z",
     "shell.execute_reply": "2022-07-16T12:23:54.898500Z"
    },
    "papermill": {
     "duration": 11.540894,
     "end_time": "2022-07-16T12:23:54.902177",
     "exception": false,
     "start_time": "2022-07-16T12:23:43.361283",
     "status": "completed"
    },
    "tags": []
   },
   "outputs": [
    {
     "name": "stderr",
     "output_type": "stream",
     "text": [
      "2022-07-16 12:23:44.790503: I tensorflow/core/common_runtime/process_util.cc:146] Creating new thread pool with default inter op setting: 2. Tune using inter_op_parallelism_threads for best performance.\n"
     ]
    },
    {
     "name": "stdout",
     "output_type": "stream",
     "text": [
      "Downloading data from https://storage.googleapis.com/tensorflow/keras-applications/resnet/resnet101_weights_tf_dim_ordering_tf_kernels_notop.h5\n"
     ]
    },
    {
     "name": "stdout",
     "output_type": "stream",
     "text": [
      "\r",
      "    16384/171446536 [..............................] - ETA: 2s"
     ]
    },
    {
     "name": "stdout",
     "output_type": "stream",
     "text": [
      "\b\b\b\b\b\b\b\b\b\b\b\b\b\b\b\b\b\b\b\b\b\b\b\b\b\b\b\b\b\b\b\b\b\b\b\b\b\b\b\b\b\b\b\b\b\b\b\b\b\b\b\b\b\b\b\b\b\b\b\b\b\b\r",
      "  4202496/171446536 [..............................] - ETA: 59s"
     ]
    },
    {
     "name": "stdout",
     "output_type": "stream",
     "text": [
      "\b\b\b\b\b\b\b\b\b\b\b\b\b\b\b\b\b\b\b\b\b\b\b\b\b\b\b\b\b\b\b\b\b\b\b\b\b\b\b\b\b\b\b\b\b\b\b\b\b\b\b\b\b\b\b\b\b\b\b\b\b\b\b\r",
      " 11755520/171446536 [=>............................] - ETA: 21s"
     ]
    },
    {
     "name": "stdout",
     "output_type": "stream",
     "text": [
      "\b\b\b\b\b\b\b\b\b\b\b\b\b\b\b\b\b\b\b\b\b\b\b\b\b\b\b\b\b\b\b\b\b\b\b\b\b\b\b\b\b\b\b\b\b\b\b\b\b\b\b\b\b\b\b\b\b\b\b\b\b\b\b\r",
      " 20807680/171446536 [==>...........................] - ETA: 11s"
     ]
    },
    {
     "name": "stdout",
     "output_type": "stream",
     "text": [
      "\b\b\b\b\b\b\b\b\b\b\b\b\b\b\b\b\b\b\b\b\b\b\b\b\b\b\b\b\b\b\b\b\b\b\b\b\b\b\b\b\b\b\b\b\b\b\b\b\b\b\b\b\b\b\b\b\b\b\b\b\b\b\b\r",
      " 31236096/171446536 [====>.........................] - ETA: 7s "
     ]
    },
    {
     "name": "stdout",
     "output_type": "stream",
     "text": [
      "\b\b\b\b\b\b\b\b\b\b\b\b\b\b\b\b\b\b\b\b\b\b\b\b\b\b\b\b\b\b\b\b\b\b\b\b\b\b\b\b\b\b\b\b\b\b\b\b\b\b\b\b\b\b\b\b\b\b\b\b\b\b\r",
      " 33562624/171446536 [====>.........................] - ETA: 8s"
     ]
    },
    {
     "name": "stdout",
     "output_type": "stream",
     "text": [
      "\b\b\b\b\b\b\b\b\b\b\b\b\b\b\b\b\b\b\b\b\b\b\b\b\b\b\b\b\b\b\b\b\b\b\b\b\b\b\b\b\b\b\b\b\b\b\b\b\b\b\b\b\b\b\b\b\b\b\b\b\b\b\r",
      " 40509440/171446536 [======>.......................] - ETA: 6s"
     ]
    },
    {
     "name": "stdout",
     "output_type": "stream",
     "text": [
      "\b\b\b\b\b\b\b\b\b\b\b\b\b\b\b\b\b\b\b\b\b\b\b\b\b\b\b\b\b\b\b\b\b\b\b\b\b\b\b\b\b\b\b\b\b\b\b\b\b\b\b\b\b\b\b\b\b\b\b\b\b\b\r",
      " 50339840/171446536 [=======>......................] - ETA: 7s"
     ]
    },
    {
     "name": "stdout",
     "output_type": "stream",
     "text": [
      "\b\b\b\b\b\b\b\b\b\b\b\b\b\b\b\b\b\b\b\b\b\b\b\b\b\b\b\b\b\b\b\b\b\b\b\b\b\b\b\b\b\b\b\b\b\b\b\b\b\b\b\b\b\b\b\b\b\b\b\b\b\b\r",
      " 58728448/171446536 [=========>....................] - ETA: 5s"
     ]
    },
    {
     "name": "stdout",
     "output_type": "stream",
     "text": [
      "\b\b\b\b\b\b\b\b\b\b\b\b\b\b\b\b\b\b\b\b\b\b\b\b\b\b\b\b\b\b\b\b\b\b\b\b\b\b\b\b\b\b\b\b\b\b\b\b\b\b\b\b\b\b\b\b\b\b\b\b\b\b\r",
      " 65740800/171446536 [==========>...................] - ETA: 5s"
     ]
    },
    {
     "name": "stdout",
     "output_type": "stream",
     "text": [
      "\b\b\b\b\b\b\b\b\b\b\b\b\b\b\b\b\b\b\b\b\b\b\b\b\b\b\b\b\b\b\b\b\b\b\b\b\b\b\b\b\b\b\b\b\b\b\b\b\b\b\b\b\b\b\b\b\b\b\b\b\b\b\r",
      " 75374592/171446536 [============>.................] - ETA: 4s"
     ]
    },
    {
     "name": "stdout",
     "output_type": "stream",
     "text": [
      "\b\b\b\b\b\b\b\b\b\b\b\b\b\b\b\b\b\b\b\b\b\b\b\b\b\b\b\b\b\b\b\b\b\b\b\b\b\b\b\b\b\b\b\b\b\b\b\b\b\b\b\b\b\b\b\b\b\b\b\b\b\b\r",
      " 83894272/171446536 [=============>................] - ETA: 4s"
     ]
    },
    {
     "name": "stdout",
     "output_type": "stream",
     "text": [
      "\b\b\b\b\b\b\b\b\b\b\b\b\b\b\b\b\b\b\b\b\b\b\b\b\b\b\b\b\b\b\b\b\b\b\b\b\b\b\b\b\b\b\b\b\b\b\b\b\b\b\b\b\b\b\b\b\b\b\b\b\b\b\r",
      " 90079232/171446536 [==============>...............] - ETA: 4s"
     ]
    },
    {
     "name": "stdout",
     "output_type": "stream",
     "text": [
      "\b\b\b\b\b\b\b\b\b\b\b\b\b\b\b\b\b\b\b\b\b\b\b\b\b\b\b\b\b\b\b\b\b\b\b\b\b\b\b\b\b\b\b\b\b\b\b\b\b\b\b\b\b\b\b\b\b\b\b\b\b\b\r",
      " 99688448/171446536 [================>.............] - ETA: 3s"
     ]
    },
    {
     "name": "stdout",
     "output_type": "stream",
     "text": [
      "\b\b\b\b\b\b\b\b\b\b\b\b\b\b\b\b\b\b\b\b\b\b\b\b\b\b\b\b\b\b\b\b\b\b\b\b\b\b\b\b\b\b\b\b\b\b\b\b\b\b\b\b\b\b\b\b\b\b\b\b\b\b\r",
      "108601344/171446536 [==================>...........] - ETA: 2s"
     ]
    },
    {
     "name": "stdout",
     "output_type": "stream",
     "text": [
      "\b\b\b\b\b\b\b\b\b\b\b\b\b\b\b\b\b\b\b\b\b\b\b\b\b\b\b\b\b\b\b\b\b\b\b\b\b\b\b\b\b\b\b\b\b\b\b\b\b\b\b\b\b\b\b\b\b\b\b\b\b\b\r",
      "117448704/171446536 [===================>..........] - ETA: 2s"
     ]
    },
    {
     "name": "stdout",
     "output_type": "stream",
     "text": [
      "\b\b\b\b\b\b\b\b\b\b\b\b\b\b\b\b\b\b\b\b\b\b\b\b\b\b\b\b\b\b\b\b\b\b\b\b\b\b\b\b\b\b\b\b\b\b\b\b\b\b\b\b\b\b\b\b\b\b\b\b\b\b\r",
      "125837312/171446536 [=====================>........] - ETA: 2s"
     ]
    },
    {
     "name": "stdout",
     "output_type": "stream",
     "text": [
      "\b\b\b\b\b\b\b\b\b\b\b\b\b\b\b\b\b\b\b\b\b\b\b\b\b\b\b\b\b\b\b\b\b\b\b\b\b\b\b\b\b\b\b\b\b\b\b\b\b\b\b\b\b\b\b\b\b\b\b\b\b\b\r",
      "132784128/171446536 [======================>.......] - ETA: 1s"
     ]
    },
    {
     "name": "stdout",
     "output_type": "stream",
     "text": [
      "\b\b\b\b\b\b\b\b\b\b\b\b\b\b\b\b\b\b\b\b\b\b\b\b\b\b\b\b\b\b\b\b\b\b\b\b\b\b\b\b\b\b\b\b\b\b\b\b\b\b\b\b\b\b\b\b\b\b\b\b\b\b\r",
      "141590528/171446536 [=======================>......] - ETA: 1s"
     ]
    },
    {
     "name": "stdout",
     "output_type": "stream",
     "text": [
      "\b\b\b\b\b\b\b\b\b\b\b\b\b\b\b\b\b\b\b\b\b\b\b\b\b\b\b\b\b\b\b\b\b\b\b\b\b\b\b\b\b\b\b\b\b\b\b\b\b\b\b\b\b\b\b\b\b\b\b\b\b\b\r",
      "151363584/171446536 [=========================>....] - ETA: 0s"
     ]
    },
    {
     "name": "stdout",
     "output_type": "stream",
     "text": [
      "\b\b\b\b\b\b\b\b\b\b\b\b\b\b\b\b\b\b\b\b\b\b\b\b\b\b\b\b\b\b\b\b\b\b\b\b\b\b\b\b\b\b\b\b\b\b\b\b\b\b\b\b\b\b\b\b\b\b\b\b\b\b\r",
      "159391744/171446536 [==========================>...] - ETA: 0s"
     ]
    },
    {
     "name": "stdout",
     "output_type": "stream",
     "text": [
      "\b\b\b\b\b\b\b\b\b\b\b\b\b\b\b\b\b\b\b\b\b\b\b\b\b\b\b\b\b\b\b\b\b\b\b\b\b\b\b\b\b\b\b\b\b\b\b\b\b\b\b\b\b\b\b\b\b\b\b\b\b\b\r",
      "166436864/171446536 [============================>.] - ETA: 0s"
     ]
    },
    {
     "name": "stdout",
     "output_type": "stream",
     "text": [
      "\b\b\b\b\b\b\b\b\b\b\b\b\b\b\b\b\b\b\b\b\b\b\b\b\b\b\b\b\b\b\b\b\b\b\b\b\b\b\b\b\b\b\b\b\b\b\b\b\b\b\b\b\b\b\b\b\b\b\b\b\b\b\r",
      "171450368/171446536 [==============================] - 6s 0us/step\n"
     ]
    },
    {
     "name": "stdout",
     "output_type": "stream",
     "text": [
      "\b\b\b\b\b\b\b\b\b\b\b\b\b\b\b\b\b\b\b\b\b\b\b\b\b\b\b\b\b\b\b\b\b\b\b\b\b\b\b\b\b\b\b\b\b\b\b\b\b\b\b\b\b\b\b\b\b\b\b\b\b\b\b\b\b\b\r",
      "171458560/171446536 [==============================] - 6s 0us/step\n"
     ]
    }
   ],
   "source": [
    "base_model=tf.keras.applications.resnet.ResNet101(\n",
    "         include_top=False,\n",
    "         weights='imagenet',\n",
    "         input_shape=(224,224,3)\n",
    ")"
   ]
  },
  {
   "cell_type": "code",
   "execution_count": 3,
   "id": "1c17632f",
   "metadata": {
    "execution": {
     "iopub.execute_input": "2022-07-16T12:23:54.970239Z",
     "iopub.status.busy": "2022-07-16T12:23:54.969660Z",
     "iopub.status.idle": "2022-07-16T12:23:54.974550Z",
     "shell.execute_reply": "2022-07-16T12:23:54.973930Z"
    },
    "papermill": {
     "duration": 0.040405,
     "end_time": "2022-07-16T12:23:54.976407",
     "exception": false,
     "start_time": "2022-07-16T12:23:54.936002",
     "status": "completed"
    },
    "tags": []
   },
   "outputs": [],
   "source": [
    "from tensorflow.keras.layers import Flatten\n",
    "from tensorflow.keras.models import Sequential"
   ]
  },
  {
   "cell_type": "code",
   "execution_count": 4,
   "id": "fea196e4",
   "metadata": {
    "execution": {
     "iopub.execute_input": "2022-07-16T12:23:55.043054Z",
     "iopub.status.busy": "2022-07-16T12:23:55.042417Z",
     "iopub.status.idle": "2022-07-16T12:23:55.866438Z",
     "shell.execute_reply": "2022-07-16T12:23:55.865776Z"
    },
    "papermill": {
     "duration": 0.859413,
     "end_time": "2022-07-16T12:23:55.868616",
     "exception": false,
     "start_time": "2022-07-16T12:23:55.009203",
     "status": "completed"
    },
    "tags": []
   },
   "outputs": [],
   "source": [
    "model=Sequential()\n",
    "model.add(base_model)\n",
    "model.add(Flatten())"
   ]
  },
  {
   "cell_type": "code",
   "execution_count": 5,
   "id": "e89d7957",
   "metadata": {
    "execution": {
     "iopub.execute_input": "2022-07-16T12:23:55.934274Z",
     "iopub.status.busy": "2022-07-16T12:23:55.933684Z",
     "iopub.status.idle": "2022-07-16T12:23:55.967135Z",
     "shell.execute_reply": "2022-07-16T12:23:55.965980Z"
    },
    "papermill": {
     "duration": 0.068722,
     "end_time": "2022-07-16T12:23:55.969219",
     "exception": false,
     "start_time": "2022-07-16T12:23:55.900497",
     "status": "completed"
    },
    "tags": []
   },
   "outputs": [
    {
     "name": "stdout",
     "output_type": "stream",
     "text": [
      "Model: \"sequential\"\n",
      "_________________________________________________________________\n",
      "Layer (type)                 Output Shape              Param #   \n",
      "=================================================================\n",
      "resnet101 (Functional)       (None, 7, 7, 2048)        42658176  \n",
      "_________________________________________________________________\n",
      "flatten (Flatten)            (None, 100352)            0         \n",
      "=================================================================\n",
      "Total params: 42,658,176\n",
      "Trainable params: 42,552,832\n",
      "Non-trainable params: 105,344\n",
      "_________________________________________________________________\n"
     ]
    }
   ],
   "source": [
    "model.summary()"
   ]
  },
  {
   "cell_type": "code",
   "execution_count": 6,
   "id": "8cce6e88",
   "metadata": {
    "execution": {
     "iopub.execute_input": "2022-07-16T12:23:56.038277Z",
     "iopub.status.busy": "2022-07-16T12:23:56.037951Z",
     "iopub.status.idle": "2022-07-16T12:23:56.225773Z",
     "shell.execute_reply": "2022-07-16T12:23:56.224933Z"
    },
    "papermill": {
     "duration": 0.224075,
     "end_time": "2022-07-16T12:23:56.228194",
     "exception": false,
     "start_time": "2022-07-16T12:23:56.004119",
     "status": "completed"
    },
    "tags": []
   },
   "outputs": [],
   "source": [
    "import cv2\n",
    "import glob\n",
    "import numpy as np"
   ]
  },
  {
   "cell_type": "code",
   "execution_count": 7,
   "id": "55978365",
   "metadata": {
    "execution": {
     "iopub.execute_input": "2022-07-16T12:23:56.298055Z",
     "iopub.status.busy": "2022-07-16T12:23:56.297764Z",
     "iopub.status.idle": "2022-07-16T12:23:56.303096Z",
     "shell.execute_reply": "2022-07-16T12:23:56.302207Z"
    },
    "papermill": {
     "duration": 0.043759,
     "end_time": "2022-07-16T12:23:56.304990",
     "exception": false,
     "start_time": "2022-07-16T12:23:56.261231",
     "status": "completed"
    },
    "tags": []
   },
   "outputs": [],
   "source": [
    "def get_convfeatures(path):\n",
    "    img=cv2.imread(path)\n",
    "    img=cv2.cvtColor(img,cv2.COLOR_BGR2RGB)\n",
    "    img=cv2.resize(img,(224,224))\n",
    "    return model.predict(np.array([img]))"
   ]
  },
  {
   "cell_type": "code",
   "execution_count": 8,
   "id": "eefcde08",
   "metadata": {
    "execution": {
     "iopub.execute_input": "2022-07-16T12:23:56.371373Z",
     "iopub.status.busy": "2022-07-16T12:23:56.371077Z",
     "iopub.status.idle": "2022-07-16T12:23:59.750539Z",
     "shell.execute_reply": "2022-07-16T12:23:59.749691Z"
    },
    "papermill": {
     "duration": 3.415252,
     "end_time": "2022-07-16T12:23:59.752825",
     "exception": false,
     "start_time": "2022-07-16T12:23:56.337573",
     "status": "completed"
    },
    "tags": []
   },
   "outputs": [
    {
     "name": "stderr",
     "output_type": "stream",
     "text": [
      "2022-07-16 12:23:56.505344: I tensorflow/compiler/mlir/mlir_graph_optimization_pass.cc:185] None of the MLIR Optimization Passes are enabled (registered 2)\n"
     ]
    },
    {
     "data": {
      "text/plain": [
       "(1, 100352)"
      ]
     },
     "execution_count": 8,
     "metadata": {},
     "output_type": "execute_result"
    }
   ],
   "source": [
    "get_convfeatures(\"/kaggle/input/pokemon-images-dataset/pokemon_jpg/pokemon_jpg/10.jpg\").shape"
   ]
  },
  {
   "cell_type": "code",
   "execution_count": 9,
   "id": "f70d99a4",
   "metadata": {
    "execution": {
     "iopub.execute_input": "2022-07-16T12:23:59.828456Z",
     "iopub.status.busy": "2022-07-16T12:23:59.827346Z",
     "iopub.status.idle": "2022-07-16T12:23:59.832479Z",
     "shell.execute_reply": "2022-07-16T12:23:59.831794Z"
    },
    "papermill": {
     "duration": 0.047772,
     "end_time": "2022-07-16T12:23:59.834635",
     "exception": false,
     "start_time": "2022-07-16T12:23:59.786863",
     "status": "completed"
    },
    "tags": []
   },
   "outputs": [],
   "source": [
    "features=[]\n",
    "names=[]"
   ]
  },
  {
   "cell_type": "code",
   "execution_count": null,
   "id": "c4c86c87",
   "metadata": {
    "execution": {
     "iopub.execute_input": "2022-07-16T12:12:15.703632Z",
     "iopub.status.busy": "2022-07-16T12:12:15.703296Z",
     "iopub.status.idle": "2022-07-16T12:16:06.201561Z",
     "shell.execute_reply": "2022-07-16T12:16:06.200791Z",
     "shell.execute_reply.started": "2022-07-16T12:12:15.703602Z"
    },
    "papermill": {
     "duration": null,
     "end_time": null,
     "exception": false,
     "start_time": "2022-07-16T12:23:59.879518",
     "status": "running"
    },
    "tags": []
   },
   "outputs": [],
   "source": [
    "for path in glob.glob(\"/kaggle/input/pokemon-images-dataset/pokemon_jpg/pokemon_jpg/*.jpg\"):\n",
    "    features.append(get_convfeatures(path).reshape(-1))\n",
    "    names.append(path)"
   ]
  },
  {
   "cell_type": "code",
   "execution_count": null,
   "id": "58eae7e7",
   "metadata": {
    "execution": {
     "iopub.execute_input": "2022-07-16T12:16:06.204064Z",
     "iopub.status.busy": "2022-07-16T12:16:06.203271Z",
     "iopub.status.idle": "2022-07-16T12:16:06.311817Z",
     "shell.execute_reply": "2022-07-16T12:16:06.310897Z",
     "shell.execute_reply.started": "2022-07-16T12:16:06.204006Z"
    },
    "papermill": {
     "duration": null,
     "end_time": null,
     "exception": null,
     "start_time": null,
     "status": "pending"
    },
    "tags": []
   },
   "outputs": [],
   "source": [
    "feautures=np.array(features)\n",
    "names=np.array(names)"
   ]
  },
  {
   "cell_type": "markdown",
   "id": "3f94b8ec",
   "metadata": {
    "papermill": {
     "duration": null,
     "end_time": null,
     "exception": null,
     "start_time": null,
     "status": "pending"
    },
    "tags": []
   },
   "source": [
    "# **2. Calculo de la imagen mas cercana**"
   ]
  },
  {
   "cell_type": "code",
   "execution_count": null,
   "id": "15153d61",
   "metadata": {
    "execution": {
     "iopub.execute_input": "2022-07-16T12:16:06.315488Z",
     "iopub.status.busy": "2022-07-16T12:16:06.315218Z",
     "iopub.status.idle": "2022-07-16T12:16:06.564761Z",
     "shell.execute_reply": "2022-07-16T12:16:06.563773Z",
     "shell.execute_reply.started": "2022-07-16T12:16:06.315456Z"
    },
    "papermill": {
     "duration": null,
     "end_time": null,
     "exception": null,
     "start_time": null,
     "status": "pending"
    },
    "tags": []
   },
   "outputs": [],
   "source": [
    "input_vector=get_convfeatures(\"/kaggle/input/pokemon-images-dataset/pokemon_jpg/pokemon_jpg/15.jpg\")"
   ]
  },
  {
   "cell_type": "code",
   "execution_count": null,
   "id": "bed82e77",
   "metadata": {
    "execution": {
     "iopub.execute_input": "2022-07-16T12:16:06.566776Z",
     "iopub.status.busy": "2022-07-16T12:16:06.566418Z",
     "iopub.status.idle": "2022-07-16T12:16:06.592651Z",
     "shell.execute_reply": "2022-07-16T12:16:06.591910Z",
     "shell.execute_reply.started": "2022-07-16T12:16:06.566698Z"
    },
    "papermill": {
     "duration": null,
     "end_time": null,
     "exception": null,
     "start_time": null,
     "status": "pending"
    },
    "tags": []
   },
   "outputs": [],
   "source": [
    "from scipy import spatial "
   ]
  },
  {
   "cell_type": "code",
   "execution_count": null,
   "id": "04062b59",
   "metadata": {
    "execution": {
     "iopub.execute_input": "2022-07-16T12:16:06.595444Z",
     "iopub.status.busy": "2022-07-16T12:16:06.595118Z",
     "iopub.status.idle": "2022-07-16T12:16:06.874708Z",
     "shell.execute_reply": "2022-07-16T12:16:06.873823Z",
     "shell.execute_reply.started": "2022-07-16T12:16:06.595403Z"
    },
    "papermill": {
     "duration": null,
     "end_time": null,
     "exception": null,
     "start_time": null,
     "status": "pending"
    },
    "tags": []
   },
   "outputs": [],
   "source": [
    "dist=np.array([spatial.distance.cosine(input_vector,i) for i in features])"
   ]
  },
  {
   "cell_type": "code",
   "execution_count": null,
   "id": "120e76e1",
   "metadata": {
    "execution": {
     "iopub.execute_input": "2022-07-16T12:16:06.875957Z",
     "iopub.status.busy": "2022-07-16T12:16:06.875748Z",
     "iopub.status.idle": "2022-07-16T12:16:06.880988Z",
     "shell.execute_reply": "2022-07-16T12:16:06.880095Z",
     "shell.execute_reply.started": "2022-07-16T12:16:06.875931Z"
    },
    "papermill": {
     "duration": null,
     "end_time": null,
     "exception": null,
     "start_time": null,
     "status": "pending"
    },
    "tags": []
   },
   "outputs": [],
   "source": [
    "min_index=dist.argsort()[:3]"
   ]
  },
  {
   "cell_type": "code",
   "execution_count": null,
   "id": "51589948",
   "metadata": {
    "execution": {
     "iopub.execute_input": "2022-07-16T12:16:06.882585Z",
     "iopub.status.busy": "2022-07-16T12:16:06.882306Z",
     "iopub.status.idle": "2022-07-16T12:16:06.893345Z",
     "shell.execute_reply": "2022-07-16T12:16:06.892396Z",
     "shell.execute_reply.started": "2022-07-16T12:16:06.882535Z"
    },
    "papermill": {
     "duration": null,
     "end_time": null,
     "exception": null,
     "start_time": null,
     "status": "pending"
    },
    "tags": []
   },
   "outputs": [],
   "source": [
    "names[min_index]"
   ]
  },
  {
   "cell_type": "code",
   "execution_count": null,
   "id": "49ce8012",
   "metadata": {
    "execution": {
     "iopub.execute_input": "2022-07-16T12:16:06.895770Z",
     "iopub.status.busy": "2022-07-16T12:16:06.894757Z",
     "iopub.status.idle": "2022-07-16T12:16:06.904024Z",
     "shell.execute_reply": "2022-07-16T12:16:06.903112Z",
     "shell.execute_reply.started": "2022-07-16T12:16:06.895695Z"
    },
    "papermill": {
     "duration": null,
     "end_time": null,
     "exception": null,
     "start_time": null,
     "status": "pending"
    },
    "tags": []
   },
   "outputs": [],
   "source": [
    "import matplotlib.pyplot as plt"
   ]
  },
  {
   "cell_type": "code",
   "execution_count": null,
   "id": "68605ef5",
   "metadata": {
    "execution": {
     "iopub.execute_input": "2022-07-16T12:16:06.905443Z",
     "iopub.status.busy": "2022-07-16T12:16:06.905120Z",
     "iopub.status.idle": "2022-07-16T12:16:06.914398Z",
     "shell.execute_reply": "2022-07-16T12:16:06.913497Z",
     "shell.execute_reply.started": "2022-07-16T12:16:06.905403Z"
    },
    "papermill": {
     "duration": null,
     "end_time": null,
     "exception": null,
     "start_time": null,
     "status": "pending"
    },
    "tags": []
   },
   "outputs": [],
   "source": [
    "def imshow(img):\n",
    "    fig,ax = plt.subplots(1,1,figsize=(4,4))\n",
    "    ax.imshow(img)\n",
    "    plt.show()"
   ]
  },
  {
   "cell_type": "code",
   "execution_count": null,
   "id": "b01f13c9",
   "metadata": {
    "execution": {
     "iopub.execute_input": "2022-07-16T12:16:06.915840Z",
     "iopub.status.busy": "2022-07-16T12:16:06.915599Z",
     "iopub.status.idle": "2022-07-16T12:16:07.522187Z",
     "shell.execute_reply": "2022-07-16T12:16:07.521202Z",
     "shell.execute_reply.started": "2022-07-16T12:16:06.915810Z"
    },
    "papermill": {
     "duration": null,
     "end_time": null,
     "exception": null,
     "start_time": null,
     "status": "pending"
    },
    "tags": []
   },
   "outputs": [],
   "source": [
    "for i in names[min_index]:\n",
    "    img=cv2.imread(i)\n",
    "    img=cv2.cvtColor(img,cv2.COLOR_BGR2RGB)\n",
    "    imshow(img)"
   ]
  },
  {
   "cell_type": "code",
   "execution_count": null,
   "id": "ea4d93e9",
   "metadata": {
    "papermill": {
     "duration": null,
     "end_time": null,
     "exception": null,
     "start_time": null,
     "status": "pending"
    },
    "tags": []
   },
   "outputs": [],
   "source": []
  }
 ],
 "metadata": {
  "kernelspec": {
   "display_name": "Python 3",
   "language": "python",
   "name": "python3"
  },
  "language_info": {
   "codemirror_mode": {
    "name": "ipython",
    "version": 3
   },
   "file_extension": ".py",
   "mimetype": "text/x-python",
   "name": "python",
   "nbconvert_exporter": "python",
   "pygments_lexer": "ipython3",
   "version": "3.6.4"
  },
  "papermill": {
   "default_parameters": {},
   "duration": null,
   "end_time": null,
   "environment_variables": {},
   "exception": null,
   "input_path": "__notebook__.ipynb",
   "output_path": "__notebook__.ipynb",
   "parameters": {},
   "start_time": "2022-07-16T12:23:27.603025",
   "version": "2.3.4"
  }
 },
 "nbformat": 4,
 "nbformat_minor": 5
}