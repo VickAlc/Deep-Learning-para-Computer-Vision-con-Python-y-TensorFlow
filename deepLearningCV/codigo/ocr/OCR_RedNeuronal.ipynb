{
  "nbformat": 4,
  "nbformat_minor": 0,
  "metadata": {
    "colab": {
      "name": "OCR_RedNeuronal.ipynb",
      "provenance": []
    },
    "kernelspec": {
      "name": "python3",
      "display_name": "Python 3"
    },
    "language_info": {
      "name": "python"
    },
    "accelerator": "GPU"
  },
  "cells": [
    {
      "cell_type": "markdown",
      "source": [
        "# **1. DATASET DE IMAGENES MNIST**"
      ],
      "metadata": {
        "id": "WopRyIZbGae_"
      }
    },
    {
      "cell_type": "code",
      "source": [
        "import tensorflow as tf\n",
        "import numpy as np\n",
        "import cv2\n",
        "from google.colab.patches import cv2_imshow"
      ],
      "metadata": {
        "id": "dsLOxqHXVXUD"
      },
      "execution_count": 1,
      "outputs": []
    },
    {
      "cell_type": "code",
      "source": [
        "mnist = tf.keras.datasets.mnist"
      ],
      "metadata": {
        "id": "Lui0d90XVxvJ"
      },
      "execution_count": 2,
      "outputs": []
    },
    {
      "cell_type": "code",
      "source": [
        "(x_train,y_train),(x_test,y_test)=mnist.load_data()"
      ],
      "metadata": {
        "colab": {
          "base_uri": "https://localhost:8080/"
        },
        "id": "o9G_dmZjWIq8",
        "outputId": "376b0d13-c52d-4a52-c405-6ce3c5c8b0d3"
      },
      "execution_count": 3,
      "outputs": [
        {
          "output_type": "stream",
          "name": "stdout",
          "text": [
            "Downloading data from https://storage.googleapis.com/tensorflow/tf-keras-datasets/mnist.npz\n",
            "11493376/11490434 [==============================] - 0s 0us/step\n",
            "11501568/11490434 [==============================] - 0s 0us/step\n"
          ]
        }
      ]
    },
    {
      "cell_type": "code",
      "source": [
        "x_train.shape"
      ],
      "metadata": {
        "colab": {
          "base_uri": "https://localhost:8080/"
        },
        "id": "5YYlR_epWkYo",
        "outputId": "56299eaf-c0b7-4ce8-f12a-497f4ca7bf04"
      },
      "execution_count": 4,
      "outputs": [
        {
          "output_type": "execute_result",
          "data": {
            "text/plain": [
              "(60000, 28, 28)"
            ]
          },
          "metadata": {},
          "execution_count": 4
        }
      ]
    },
    {
      "cell_type": "code",
      "source": [
        "cv2_imshow(cv2.resize(x_train[1],(200,100)))"
      ],
      "metadata": {
        "colab": {
          "base_uri": "https://localhost:8080/",
          "height": 118
        },
        "id": "qQf0CbAfW261",
        "outputId": "ec3b531a-688a-4938-990a-8553f51a9179"
      },
      "execution_count": 5,
      "outputs": [
        {
          "output_type": "display_data",
          "data": {
            "text/plain": [
              "<PIL.Image.Image image mode=L size=200x100 at 0x7FA0F30A1D50>"
            ],
            "image/png": "[encoded data removed]"
          },
          "metadata": {}
        }
      ]
    },
    {
      "cell_type": "code",
      "source": [
        "y_train[0]"
      ],
      "metadata": {
        "colab": {
          "base_uri": "https://localhost:8080/"
        },
        "id": "GYGIThVnXOq9",
        "outputId": "eb0475a3-bd53-4ede-ffcf-2aa81aebb217"
      },
      "execution_count": 6,
      "outputs": [
        {
          "output_type": "execute_result",
          "data": {
            "text/plain": [
              "5"
            ]
          },
          "metadata": {},
          "execution_count": 6
        }
      ]
    },
    {
      "cell_type": "code",
      "source": [
        "x_test.shape"
      ],
      "metadata": {
        "colab": {
          "base_uri": "https://localhost:8080/"
        },
        "id": "-kB-uJb-XdTz",
        "outputId": "9a6be141-a258-40ab-ad5f-b6d4c581116d"
      },
      "execution_count": 7,
      "outputs": [
        {
          "output_type": "execute_result",
          "data": {
            "text/plain": [
              "(10000, 28, 28)"
            ]
          },
          "metadata": {},
          "execution_count": 7
        }
      ]
    },
    {
      "cell_type": "markdown",
      "source": [
        "# **2. DATASET DE CARACTERISTICAS CON HOG FEATURES**"
      ],
      "metadata": {
        "id": "IiQoaYluGl0g"
      }
    },
    {
      "cell_type": "code",
      "source": [
        "img=x_train[1]\n",
        "def get_hog():\n",
        "  winSize=(28,28)\n",
        "  blockSize=(8,8)\n",
        "  blockStride=(2,2)\n",
        "  cellSize=(4,4)\n",
        "  nbins=9\n",
        "  hog=cv2.HOGDescriptor(winSize,blockSize,blockStride,cellSize,nbins)\n",
        "  return hog\n",
        "hog=get_hog()\n",
        "hog.compute(img).shape"
      ],
      "metadata": {
        "colab": {
          "base_uri": "https://localhost:8080/"
        },
        "id": "kRn3dsHmXyDR",
        "outputId": "34ca397a-2e18-4967-febe-10e00a1cc362"
      },
      "execution_count": 8,
      "outputs": [
        {
          "output_type": "execute_result",
          "data": {
            "text/plain": [
              "(4356, 1)"
            ]
          },
          "metadata": {},
          "execution_count": 8
        }
      ]
    },
    {
      "cell_type": "code",
      "source": [
        "def get_feature_dataset(x):\n",
        "  features=[]\n",
        "\n",
        "  for img in x:\n",
        "    features.append(hog.compute(img))\n",
        "  features=np.array(features)\n",
        "  features=features[:,:,0]\n",
        "  return features"
      ],
      "metadata": {
        "id": "oa1we6cCaKMh"
      },
      "execution_count": 9,
      "outputs": []
    },
    {
      "cell_type": "code",
      "source": [
        "features_train=get_feature_dataset(x_train)\n",
        "features_test=get_feature_dataset(x_test)"
      ],
      "metadata": {
        "id": "vZyOXZpmbrg6"
      },
      "execution_count": 10,
      "outputs": []
    },
    {
      "cell_type": "code",
      "source": [
        "features_train.shape"
      ],
      "metadata": {
        "colab": {
          "base_uri": "https://localhost:8080/"
        },
        "id": "YTeQj8ljbq3T",
        "outputId": "46534c18-2386-4979-cb75-45969463cef8"
      },
      "execution_count": 11,
      "outputs": [
        {
          "output_type": "execute_result",
          "data": {
            "text/plain": [
              "(60000, 4356)"
            ]
          },
          "metadata": {},
          "execution_count": 11
        }
      ]
    },
    {
      "cell_type": "code",
      "source": [
        "features_test.shape"
      ],
      "metadata": {
        "colab": {
          "base_uri": "https://localhost:8080/"
        },
        "id": "mBLrpDw6bomj",
        "outputId": "86db9b43-55d8-4f96-bd3f-b5dac75c7c2a"
      },
      "execution_count": 12,
      "outputs": [
        {
          "output_type": "execute_result",
          "data": {
            "text/plain": [
              "(10000, 4356)"
            ]
          },
          "metadata": {},
          "execution_count": 12
        }
      ]
    },
    {
      "cell_type": "markdown",
      "source": [
        "# **3. DEFINICION E IMPLEMENTACION DE LA RED NEURONAL**"
      ],
      "metadata": {
        "id": "dvCUJGOcKC7q"
      }
    },
    {
      "cell_type": "code",
      "source": [
        "y_trainOneHot = tf.one_hot(y_train,np.max(y_train)+1)\n",
        "y_testOneHot = tf.one_hot(y_test,np.max(y_train)+1)"
      ],
      "metadata": {
        "id": "uCBAiPA3ckoM"
      },
      "execution_count": 13,
      "outputs": []
    },
    {
      "cell_type": "code",
      "source": [
        "y_trainOneHot[1]"
      ],
      "metadata": {
        "colab": {
          "base_uri": "https://localhost:8080/"
        },
        "id": "LOlB1Q_UdU5c",
        "outputId": "c0232570-5355-48ed-d317-d757d194beb0"
      },
      "execution_count": 14,
      "outputs": [
        {
          "output_type": "execute_result",
          "data": {
            "text/plain": [
              "<tf.Tensor: shape=(10,), dtype=float32, numpy=array([1., 0., 0., 0., 0., 0., 0., 0., 0., 0.], dtype=float32)>"
            ]
          },
          "metadata": {},
          "execution_count": 14
        }
      ]
    },
    {
      "cell_type": "code",
      "source": [
        "from tensorflow.keras.models import Sequential\n",
        "from tensorflow.keras.layers import Dense\n",
        "\n",
        "def classifier():\n",
        "  model=Sequential()\n",
        "  model.add(Dense(200,input_dim=features_train.shape[1],activation='relu'))\n",
        "  model.add(Dense(180,activation='relu'))\n",
        "  model.add(Dense(150,activation='relu'))\n",
        "  model.add(Dense(10,activation='softmax'))\n",
        "  model.compile(loss='categorical_crossentropy', optimizer=tf.keras.optimizers.SGD(learning_rate=1e-3))\n",
        "  return model"
      ],
      "metadata": {
        "id": "M5xBB99Cdk1I"
      },
      "execution_count": 15,
      "outputs": []
    },
    {
      "cell_type": "code",
      "source": [
        "model=classifier()\n",
        "model.summary()"
      ],
      "metadata": {
        "colab": {
          "base_uri": "https://localhost:8080/"
        },
        "id": "qEhHYoosgvrw",
        "outputId": "e33e4a8c-3d91-46c3-e4a2-855054b34ab7"
      },
      "execution_count": 16,
      "outputs": [
        {
          "output_type": "stream",
          "name": "stdout",
          "text": [
            "Model: \"sequential\"\n",
            "_________________________________________________________________\n",
            " Layer (type)                Output Shape              Param #   \n",
            "=================================================================\n",
            " dense (Dense)               (None, 200)               871400    \n",
            "                                                                 \n",
            " dense_1 (Dense)             (None, 180)               36180     \n",
            "                                                                 \n",
            " dense_2 (Dense)             (None, 150)               27150     \n",
            "                                                                 \n",
            " dense_3 (Dense)             (None, 10)                1510      \n",
            "                                                                 \n",
            "=================================================================\n",
            "Total params: 936,240\n",
            "Trainable params: 936,240\n",
            "Non-trainable params: 0\n",
            "_________________________________________________________________\n"
          ]
        }
      ]
    },
    {
      "cell_type": "code",
      "execution_count": 17,
      "metadata": {
        "colab": {
          "base_uri": "https://localhost:8080/"
        },
        "id": "xx0U0aAmGUDa",
        "outputId": "4bc9cfd6-780e-4943-98e8-d9c3894e63b9"
      },
      "outputs": [
        {
          "output_type": "stream",
          "name": "stdout",
          "text": [
            "Epoch 1/10\n",
            "600/600 [==============================] - 5s 5ms/step - loss: 2.2142\n",
            "Epoch 2/10\n",
            "600/600 [==============================] - 3s 5ms/step - loss: 1.8896\n",
            "Epoch 3/10\n",
            "600/600 [==============================] - 3s 5ms/step - loss: 1.3558\n",
            "Epoch 4/10\n",
            "600/600 [==============================] - 3s 5ms/step - loss: 0.8396\n",
            "Epoch 5/10\n",
            "600/600 [==============================] - 3s 5ms/step - loss: 0.5425\n",
            "Epoch 6/10\n",
            "600/600 [==============================] - 3s 5ms/step - loss: 0.3932\n",
            "Epoch 7/10\n",
            "600/600 [==============================] - 3s 5ms/step - loss: 0.3113\n",
            "Epoch 8/10\n",
            "600/600 [==============================] - 3s 5ms/step - loss: 0.2612\n",
            "Epoch 9/10\n",
            "600/600 [==============================] - 3s 5ms/step - loss: 0.2279\n",
            "Epoch 10/10\n",
            "600/600 [==============================] - 3s 5ms/step - loss: 0.2041\n"
          ]
        },
        {
          "output_type": "execute_result",
          "data": {
            "text/plain": [
              "<keras.callbacks.History at 0x7fa0fc734190>"
            ]
          },
          "metadata": {},
          "execution_count": 17
        }
      ],
      "source": [
        "model.fit(features_train,y_trainOneHot,epochs=10, batch_size=100)"
      ]
    },
    {
      "cell_type": "code",
      "source": [
        "prediction_train=model.predict(features_train)\n",
        "prediction_test=model.predict(features_test)"
      ],
      "metadata": {
        "id": "YUMyCc2WoqRE"
      },
      "execution_count": 18,
      "outputs": []
    },
    {
      "cell_type": "code",
      "source": [
        "prediction_train.shape"
      ],
      "metadata": {
        "id": "cKMX2bYwpwXm",
        "outputId": "a9f4f06f-e42a-4ed9-9e7c-b16551b9e258",
        "colab": {
          "base_uri": "https://localhost:8080/"
        }
      },
      "execution_count": 19,
      "outputs": [
        {
          "output_type": "execute_result",
          "data": {
            "text/plain": [
              "(60000, 10)"
            ]
          },
          "metadata": {},
          "execution_count": 19
        }
      ]
    },
    {
      "cell_type": "code",
      "source": [
        "prediction_train[0]"
      ],
      "metadata": {
        "id": "c7Kl8TNKp0RI",
        "outputId": "24ce9da2-4d73-4820-918c-d30672fdbbf7",
        "colab": {
          "base_uri": "https://localhost:8080/"
        }
      },
      "execution_count": 20,
      "outputs": [
        {
          "output_type": "execute_result",
          "data": {
            "text/plain": [
              "array([1.5983099e-04, 7.9457510e-05, 2.6251206e-03, 4.1130954e-01,\n",
              "       2.3883618e-04, 5.7495278e-01, 2.9936750e-04, 6.3026813e-04,\n",
              "       9.4058961e-03, 2.9891287e-04], dtype=float32)"
            ]
          },
          "metadata": {},
          "execution_count": 20
        }
      ]
    },
    {
      "cell_type": "code",
      "source": [
        "y_pred_train=np.argmax(prediction_train,1)\n",
        "y_pred_test=np.argmax(prediction_test,1)"
      ],
      "metadata": {
        "id": "EJkxUFihp7_B"
      },
      "execution_count": 24,
      "outputs": []
    },
    {
      "cell_type": "code",
      "source": [
        "y_pred_train"
      ],
      "metadata": {
        "id": "L_3y3m6rqa9F",
        "outputId": "791a812e-b808-4061-bfb9-a406a0f96b7e",
        "colab": {
          "base_uri": "https://localhost:8080/"
        }
      },
      "execution_count": 25,
      "outputs": [
        {
          "output_type": "execute_result",
          "data": {
            "text/plain": [
              "array([5, 0, 4, ..., 5, 6, 8])"
            ]
          },
          "metadata": {},
          "execution_count": 25
        }
      ]
    },
    {
      "cell_type": "code",
      "source": [
        "errorTrain= 100*np.sum(y_pred_train != y_train)/len(y_train)\n",
        "errorTest= 100*np.sum(y_pred_test != y_test)/len(y_test)"
      ],
      "metadata": {
        "id": "-4pr8tJZqf9f"
      },
      "execution_count": 26,
      "outputs": []
    },
    {
      "cell_type": "code",
      "source": [
        "print(\"error entrenamiento es : {}%\".format(errorTrain))\n",
        "print(\"error prueba es : {}%\".format(errorTest))"
      ],
      "metadata": {
        "id": "4iBXhVpbrWGp",
        "outputId": "e73644e0-242b-4772-a624-cf04413441eb",
        "colab": {
          "base_uri": "https://localhost:8080/"
        }
      },
      "execution_count": 28,
      "outputs": [
        {
          "output_type": "stream",
          "name": "stdout",
          "text": [
            "error entrenamiento es : 4.4816666666666665%\n",
            "error prueba es : 4.01%\n"
          ]
        }
      ]
    },
    {
      "cell_type": "markdown",
      "source": [
        "# **4. CALCULO DE LA MATRIZ DE CONFUSION**"
      ],
      "metadata": {
        "id": "9-0YI9mtr5T8"
      }
    },
    {
      "cell_type": "code",
      "source": [
        "from sklearn.metrics import confusion_matrix, ConfusionMatrixDisplay"
      ],
      "metadata": {
        "id": "Bf-oMIK3rj0X"
      },
      "execution_count": 31,
      "outputs": []
    },
    {
      "cell_type": "code",
      "source": [
        "conf_mat= confusion_matrix(y_test,y_pred_test)"
      ],
      "metadata": {
        "id": "wPiXTiWyslCW"
      },
      "execution_count": 32,
      "outputs": []
    },
    {
      "cell_type": "code",
      "source": [
        "disp=ConfusionMatrixDisplay(confusion_matrix=conf_mat)"
      ],
      "metadata": {
        "id": "4D2_a9kqs4L0"
      },
      "execution_count": 34,
      "outputs": []
    },
    {
      "cell_type": "code",
      "source": [
        "disp.plot()"
      ],
      "metadata": {
        "id": "LlKtXVwRs5nI",
        "outputId": "863e6987-cac8-4aa9-f81c-fff52dde36a6",
        "colab": {
          "base_uri": "https://localhost:8080/",
          "height": 296
        }
      },
      "execution_count": 35,
      "outputs": [
        {
          "output_type": "execute_result",
          "data": {
            "text/plain": [
              "<sklearn.metrics._plot.confusion_matrix.ConfusionMatrixDisplay at 0x7fa073826790>"
            ]
          },
          "metadata": {},
          "execution_count": 35
        },
        {
          "output_type": "display_data",
          "data": {
            "text/plain": [
              "<Figure size 432x288 with 2 Axes>"
            ],
            "image/png": "[encoded data removed]"
          },
          "metadata": {
            "needs_background": "light"
          }
        }
      ]
    },
    {
      "cell_type": "code",
      "source": [
        "conf_mat_norm=np.round(100*conf_mat/np.sum(conf_mat,1),1)"
      ],
      "metadata": {
        "id": "dfj2SIf_tI1O"
      },
      "execution_count": 37,
      "outputs": []
    },
    {
      "cell_type": "code",
      "source": [
        "disp2=ConfusionMatrixDisplay(confusion_matrix=conf_mat_norm)\n",
        "disp2.plot()"
      ],
      "metadata": {
        "id": "UIz1iuVIuGgc",
        "outputId": "5d13489c-a38f-492a-a102-53fc64aa9589",
        "colab": {
          "base_uri": "https://localhost:8080/",
          "height": 296
        }
      },
      "execution_count": 38,
      "outputs": [
        {
          "output_type": "execute_result",
          "data": {
            "text/plain": [
              "<sklearn.metrics._plot.confusion_matrix.ConfusionMatrixDisplay at 0x7fa07317e4d0>"
            ]
          },
          "metadata": {},
          "execution_count": 38
        },
        {
          "output_type": "display_data",
          "data": {
            "text/plain": [
              "<Figure size 432x288 with 2 Axes>"
            ],
            "image/png": "[encoded data removed]"
          },
          "metadata": {
            "needs_background": "light"
          }
        }
      ]
    },
    {
      "cell_type": "code",
      "source": [
        ""
      ],
      "metadata": {
        "id": "k78QZ8zFuUA2"
      },
      "execution_count": null,
      "outputs": []
    }
  ]
}